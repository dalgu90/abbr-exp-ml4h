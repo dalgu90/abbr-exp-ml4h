{
 "cells": [
  {
   "cell_type": "code",
   "execution_count": 1,
   "metadata": {},
   "outputs": [],
   "source": [
    "# Import packages\n",
    "import os\n",
    "import sys\n",
    "import csv\n",
    "import re\n",
    "import random\n",
    "import shutil\n",
    "from collections import defaultdict\n",
    "from collections import Counter\n",
    "import numpy as np\n",
    "from tqdm import tqdm\n",
    "import pickle"
   ]
  },
  {
   "cell_type": "code",
   "execution_count": 2,
   "metadata": {},
   "outputs": [],
   "source": [
    "# Paths\n",
    "sc13t2_dir = '../data/sc13t2/'\n",
    "train_data_fpath = os.path.join(sc13t2_dir, 'train.tsv')\n",
    "test_data_fpath = os.path.join(sc13t2_dir, 'test.tsv')"
   ]
  },
  {
   "cell_type": "code",
   "execution_count": 3,
   "metadata": {},
   "outputs": [],
   "source": [
    "# Helper functions\n",
    "# regex_sym = re.compile('[-_\\.\\\\+/&#> \\'\\(\\)\\[\\]\\:\\%\\!\\,\\*]')\n",
    "regex_sym = re.compile('[-_\\.\\\\+/&#> \\']')\n",
    "def normalize_abbr_variation(abbr):\n",
    "    abbr = abbr.strip()\n",
    "    abbr = regex_sym.sub('', abbr)\n",
    "    abbr = abbr.lower()\n",
    "    return abbr"
   ]
  },
  {
   "cell_type": "code",
   "execution_count": 4,
   "metadata": {
    "scrolled": true
   },
   "outputs": [
    {
     "name": "stdout",
     "output_type": "stream",
     "text": [
      "Read 3805 train records\n",
      "Read 3774 test records\n",
      "Train 670 abbr groups (860 CUIs) read\n",
      "Test 704 abbr groups (884 CUIs) read\n"
     ]
    }
   ],
   "source": [
    "# Load training/test abbrs\n",
    "train_group_cui_dict, test_group_cui_dict = defaultdict(set), defaultdict(set)\n",
    "for data_fpath, group_cui_dict, data_name in [(train_data_fpath, train_group_cui_dict, 'train'),\n",
    "                                             (test_data_fpath, test_group_cui_dict, 'test')]:\n",
    "    with open(data_fpath, 'r', encoding='utf-8') as fd:\n",
    "        reader = csv.reader(fd, delimiter='\\t', quotechar=None)\n",
    "        for i, l in enumerate(reader):\n",
    "            if i == 0: continue\n",
    "            abbr, cui = l[1], l[4]\n",
    "            group_cui_dict[normalize_abbr_variation(abbr)].add(cui)\n",
    "        print(f'Read {i} {data_name} records')\n",
    "print(f'Train {len(train_group_cui_dict)} abbr groups ({sum([len(v) for v in train_group_cui_dict.values()])} CUIs) read')\n",
    "print(f'Test {len(test_group_cui_dict)} abbr groups ({sum([len(v) for v in test_group_cui_dict.values()])} CUIs) read')\n",
    "\n",
    "test_examples_dict = {}\n",
    "with open(test_data_fpath, 'r', encoding='utf-8') as fd:\n",
    "    reader = csv.reader(fd, delimiter='\\t', quotechar=None)\n",
    "    for i, l in enumerate(reader):\n",
    "        if i == 0: continue\n",
    "        guid, abbr, cui_label, cuis_cand = l[0], l[1], l[4], [c for c in l[5:] if c.strip()]\n",
    "        test_examples_dict[int(guid)] = [abbr, cui_label, cuis_cand]"
   ]
  },
  {
   "cell_type": "code",
   "execution_count": 5,
   "metadata": {},
   "outputs": [],
   "source": [
    "# Evaluation Functions\n",
    "def evaluate_test(result_fpath):\n",
    "    with open(result_fpath, 'rb') as fd:\n",
    "        results = pickle.load(fd)\n",
    "    results_dict = {r['guid']:r for r in results}\n",
    "    \n",
    "    total_cnt, total_correct, seen_cnt, seen_correct, lrabr_cnt, lrabr_correct, nolbl_cnt = (0,) * 7\n",
    "    \n",
    "    for guid, (abbr, label_cui, cand_cuis) in test_examples_dict.items():\n",
    "        total_cnt += 1\n",
    "        if guid in results_dict:\n",
    "            r = results_dict[guid]\n",
    "            cand_log_probs = [r[f'log_probs_train_{i}'].sum() / len(r[f'log_probs_train_{i}']) \\\n",
    "                              for i in range(len(cand_cuis))]\n",
    "            output_cui = cand_cuis[np.argmax(cand_log_probs)]\n",
    "            correct = int(output_cui == label_cui)\n",
    "            total_correct += correct\n",
    "            if normalize_abbr_variation(abbr) in train_group_cui_dict:\n",
    "                seen_cnt += 1\n",
    "                seen_correct += correct\n",
    "            else:\n",
    "                lrabr_cnt += 1\n",
    "                lrabr_correct += correct\n",
    "        else:\n",
    "            nolbl_cnt += 1\n",
    "            \n",
    "    # print((total_cnt, total_correct, seen_cnt, seen_correct, lrabr_cnt, lrabr_correct, nolbl_cnt))\n",
    "    print(f'Total : {total_correct/total_cnt} ({total_correct}/{total_cnt})')\n",
    "    print(f'Seen  : {seen_correct/seen_cnt} ({seen_correct}/{seen_cnt})')\n",
    "    print(f'Unseen: {lrabr_correct/(lrabr_cnt+nolbl_cnt)} ({lrabr_correct}/{(lrabr_cnt+nolbl_cnt)})')\n",
    "    print(f'   - LRABR augmented: {lrabr_correct/lrabr_cnt} ({lrabr_correct}/{lrabr_cnt})')\n",
    "    print(f'   - No labels: {0.0} (0/{nolbl_cnt})')\n",
    "    print(f'Seen + LRABR: {(seen_correct+lrabr_correct)/(seen_cnt+lrabr_cnt)} ({seen_correct+lrabr_correct}/{seen_cnt+lrabr_cnt})')"
   ]
  },
  {
   "cell_type": "code",
   "execution_count": 6,
   "metadata": {},
   "outputs": [
    {
     "name": "stdout",
     "output_type": "stream",
     "text": [
      "Total : 0.766295707472178 (2892/3774)\n",
      "Seen  : 0.8446511627906976 (2724/3225)\n",
      "Unseen: 0.30601092896174864 (168/549)\n",
      "   - LRABR augmented: 0.4386422976501306 (168/383)\n",
      "   - No labels: 0.0 (0/166)\n",
      "Seen + LRABR: 0.8015521064301552 (2892/3608)\n"
     ]
    }
   ],
   "source": [
    "evaluate_test('../results/exp_sc13t2_masklm2_out/output.pkl')"
   ]
  },
  {
   "cell_type": "markdown",
   "metadata": {},
   "source": [
    "## Some Stat & Random / Majority Accuracy"
   ]
  },
  {
   "cell_type": "code",
   "execution_count": 7,
   "metadata": {},
   "outputs": [
    {
     "name": "stdout",
     "output_type": "stream",
     "text": [
      "LRABR examples: 383\n",
      "All cand CUIs in LRABR examples: 2317\n",
      "\n",
      "LRABR examples that have GT: 187\n",
      "All cand CUIs in LRABR examples that have GT: 990\n"
     ]
    }
   ],
   "source": [
    "# LRABR example stats\n",
    "result_fpath = '../results/exp_sc13t2_masklm2_out/output.pkl'\n",
    "with open(result_fpath, 'rb') as fd:\n",
    "    results = pickle.load(fd)\n",
    "results_dict = {r['guid']:r for r in results}\n",
    "\n",
    "lrabr_cnt, lrabr_cands, lrabr_possible, lrabr_cands_possible = 0, 0, 0, 0\n",
    "for guid, (abbr, label_cui, cand_cuis) in test_examples_dict.items():\n",
    "    if guid in results_dict:\n",
    "        if normalize_abbr_variation(abbr) not in train_group_cui_dict:\n",
    "            lrabr_cnt += 1\n",
    "            lrabr_cands += len(cand_cuis)\n",
    "            if label_cui in cand_cuis:\n",
    "                lrabr_possible += 1\n",
    "                lrabr_cands_possible += len(cand_cuis)\n",
    "print(f'LRABR examples: {lrabr_cnt}')\n",
    "print(f'All cand CUIs in LRABR examples: {lrabr_cands}')\n",
    "print('')\n",
    "print(f'LRABR examples that have GT: {lrabr_possible}')\n",
    "print(f'All cand CUIs in LRABR examples that have GT: {lrabr_cands_possible}')"
   ]
  },
  {
   "cell_type": "code",
   "execution_count": 8,
   "metadata": {},
   "outputs": [],
   "source": [
    "train_abbr_cuis = defaultdict(list)\n",
    "\n",
    "with open(train_data_fpath, 'r') as fd:\n",
    "    reader = csv.reader(fd, delimiter='\\t', quotechar=None)\n",
    "    for i, line in enumerate(reader):\n",
    "        if i == 0:\n",
    "#             print(line)\n",
    "            abbr_idx = line.index('group')\n",
    "            label_idx = line.index('label')\n",
    "            continue\n",
    "        abbr = line[abbr_idx]\n",
    "        label = line[label_idx]\n",
    "        train_abbr_cuis[normalize_abbr_variation(abbr)].append(label)\n",
    "        \n",
    "train_majority_cuis = {}\n",
    "for abbr, cuis in train_abbr_cuis.items():\n",
    "    counter = Counter(cuis)\n",
    "    train_majority_cuis[abbr] = counter.most_common()[0][0]"
   ]
  },
  {
   "cell_type": "code",
   "execution_count": 9,
   "metadata": {},
   "outputs": [],
   "source": [
    "test_total_cnt = 0\n",
    "test_majority_cnt = 0\n",
    "test_random_cnt = 0\n",
    "\n",
    "with open(test_data_fpath, 'r') as fd:\n",
    "    reader = csv.reader(fd, delimiter='\\t', quotechar=None)\n",
    "    for i, line in enumerate(reader):\n",
    "        if i == 0:\n",
    "#             print(line)\n",
    "            abbr_idx = line.index('group')\n",
    "            label_idx = line.index('label')\n",
    "            continue\n",
    "        abbr = line[abbr_idx]\n",
    "        label = line[label_idx]\n",
    "        cands = []\n",
    "        for j in range(label_idx+1, len(line)):\n",
    "            if line[j]:\n",
    "                cands.append(line[j])\n",
    "        \n",
    "        test_total_cnt += 1\n",
    "        if label in cands:\n",
    "            test_random_cnt += 1.0/len(cands)\n",
    "        if normalize_abbr_variation(abbr) in train_majority_cuis and \\\n",
    "                    train_majority_cuis[normalize_abbr_variation(abbr)] == label:\n",
    "            test_majority_cnt += 1"
   ]
  },
  {
   "cell_type": "code",
   "execution_count": 10,
   "metadata": {},
   "outputs": [
    {
     "name": "stdout",
     "output_type": "stream",
     "text": [
      "3774\n",
      "2614\n",
      "2100.0549575423483\n",
      "Random  : 0.5564533538797956\n",
      "Majority: 0.6926338102808691\n"
     ]
    }
   ],
   "source": [
    "print(test_total_cnt)\n",
    "print(test_majority_cnt)\n",
    "print(test_random_cnt)\n",
    "\n",
    "print(f'Random  : {test_random_cnt/test_total_cnt}')\n",
    "print(f'Majority: {test_majority_cnt/test_total_cnt}')"
   ]
  },
  {
   "cell_type": "code",
   "execution_count": null,
   "metadata": {},
   "outputs": [],
   "source": []
  }
 ],
 "metadata": {
  "kernelspec": {
   "display_name": "Python 3",
   "language": "python",
   "name": "python3"
  },
  "language_info": {
   "codemirror_mode": {
    "name": "ipython",
    "version": 3
   },
   "file_extension": ".py",
   "mimetype": "text/x-python",
   "name": "python",
   "nbconvert_exporter": "python",
   "pygments_lexer": "ipython3",
   "version": "3.8.2"
  }
 },
 "nbformat": 4,
 "nbformat_minor": 4
}
